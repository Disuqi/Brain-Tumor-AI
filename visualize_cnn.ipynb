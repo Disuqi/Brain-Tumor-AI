{
 "cells": [
  {
   "cell_type": "code",
   "execution_count": null,
   "metadata": {},
   "outputs": [],
   "source": [
    "import os \n",
    "from datasets import load_from_disk\n",
    "\n",
    "\n",
    "base_dir = os.getcwd() + '/datasets/brain_tumor_collection/'\n",
    "\n",
    "data = load_from_disk(base_dir)\n",
    "\n",
    "train_images = data['train']['image']\n",
    "train_labels = data['train']['label']"
   ]
  },
  {
   "cell_type": "code",
   "execution_count": null,
   "metadata": {},
   "outputs": [],
   "source": [
    "from tf_keras_vis.grad_cam import Gradcam\n",
    "from matplotlib import cm\n",
    "import matplotlib.pyplot as plt\n",
    "import numpy as np\n",
    "from tensorflow.keras.models import load_model\n",
    "\n",
    "model_modifier = ReplaceToLinear()\n",
    "\n",
    "model = load_model(\"final_model.h5\")\n",
    "\n",
    "for i in range(0,10): \n",
    "\n",
    "    label = train_label_data[i]\n",
    "    seed_input_image = train_images[i]\n",
    "\n",
    "    gradcam = Gradcam(model, model_modifier)\n",
    "    cam =gradcam(CategoricalScore(label),seed_input_image) \n",
    "\n",
    "    plt.figure(figsize = (3,3))\n",
    "    plt.imshow(seed_input_image)\n",
    "    heatmap = np.uint8(cm.jet(cam[0])[...,:3]*255)\n",
    "    plt.title(f'Class {label}')\n",
    "    plt.imshow(heatmap,cmap='jet',alpha=0.5)\n",
    "    plt.show()\n"
   ]
  }
 ],
 "metadata": {
  "language_info": {
   "name": "python"
  }
 },
 "nbformat": 4,
 "nbformat_minor": 2
}
